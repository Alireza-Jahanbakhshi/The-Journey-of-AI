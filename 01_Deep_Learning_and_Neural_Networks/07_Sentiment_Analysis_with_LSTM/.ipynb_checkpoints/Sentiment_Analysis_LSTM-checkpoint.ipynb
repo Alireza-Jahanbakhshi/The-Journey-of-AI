{
 "cells": [
  {
   "cell_type": "code",
   "execution_count": null,
   "id": "0291ea76",
   "metadata": {},
   "outputs": [],
   "source": [
    "from keras.datasets import imdb\n",
    "top_words = 5000\n",
    "(X_train, y_train), (X_test, y_test) = imdb.load_data(num_words=top_words)"
   ]
  },
  {
   "cell_type": "code",
   "execution_count": null,
   "id": "0029a52c",
   "metadata": {},
   "outputs": [],
   "source": [
    "X_train"
   ]
  },
  {
   "cell_type": "code",
   "execution_count": null,
   "id": "3dda9c4f",
   "metadata": {},
   "outputs": [],
   "source": [
    "word_index = imdb.get_word_index() # get {word : index}\n",
    "\n",
    "index_word = {v : k for k,v in word_index.items()} # get {index : word}\n",
    "index = 1\n",
    "print(\" \".join([index_word[idx] for idx in x_train[index]]))\n",
    "print(\"positve\" if y_train[index]==1 else \"negetive\")"
   ]
  },
  {
   "cell_type": "code",
   "execution_count": null,
   "id": "4c8a6007",
   "metadata": {},
   "outputs": [],
   "source": [
    "word_index = imdb.get_word_index() # get {word : index}\n",
    "index_word = {v : k for k,v in word_index.items()} # get {index : word}\n",
    "index = 1\n",
    "print(\" \".join([index_word[idx] for idx in x_train[index]]))\n",
    "print(\"positve\" if y_train[index]==1 else \"negetive\")"
   ]
  },
  {
   "cell_type": "code",
   "execution_count": null,
   "id": "749e9c27",
   "metadata": {},
   "outputs": [],
   "source": [
    "X_train[125]"
   ]
  },
  {
   "cell_type": "code",
   "execution_count": null,
   "id": "304a22b9",
   "metadata": {},
   "outputs": [],
   "source": [
    "from keras.models import Sequential\n",
    "from keras.layers import Embedding\n",
    "from keras.layers import LSTM, Dense\n",
    "embedding_vector_length = 32\n",
    "model = Sequential()\n",
    "model.add(Embedding(top_w0rds, embedding_vector_length,\n",
    "input_length=max_review_length))\n",
    "model.add(LSTM(100))\n",
    "model.add(Dense(1, activation='sigmoid'))\n",
    "model.compile(loss='binary_crossentropy',optimizer='adam', metrics=['accuracy'])\n",
    "print(model.summary())"
   ]
  },
  {
   "cell_type": "code",
   "execution_count": null,
   "id": "c415f740",
   "metadata": {},
   "outputs": [],
   "source": [
    "model.fit(X_train, y_train, validation_data=(X_test, y_test), epochs=5, batch_size=32)"
   ]
  },
  {
   "cell_type": "code",
   "execution_count": null,
   "id": "c283ca95",
   "metadata": {},
   "outputs": [],
   "source": [
    "scores = model.evaluate(X_test, y_test, verbose=0)\n",
    "print(\"Accuracy: %.2f%%\" % (scores[1]*100))"
   ]
  }
 ],
 "metadata": {
  "kernelspec": {
   "display_name": "Python 3 (ipykernel)",
   "language": "python",
   "name": "python3"
  },
  "language_info": {
   "codemirror_mode": {
    "name": "ipython",
    "version": 3
   },
   "file_extension": ".py",
   "mimetype": "text/x-python",
   "name": "python",
   "nbconvert_exporter": "python",
   "pygments_lexer": "ipython3",
   "version": "3.10.7"
  }
 },
 "nbformat": 4,
 "nbformat_minor": 5
}
