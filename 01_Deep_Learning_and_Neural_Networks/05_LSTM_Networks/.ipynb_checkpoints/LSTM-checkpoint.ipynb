{
 "cells": [
  {
   "cell_type": "code",
   "execution_count": 1,
   "id": "7ad9147c",
   "metadata": {},
   "outputs": [
    {
     "data": {
      "text/plain": [
       "'ï»¿\"well, prince, so genoa and lucca are now just family estates of the\\nbuonapartes. but i warn you,'"
      ]
     },
     "execution_count": 1,
     "metadata": {},
     "output_type": "execute_result"
    }
   ],
   "source": [
    "training_file = 'warpeace_input.txt'\n",
    "raw_text = open(training_file, 'r').read()\n",
    "raw_text = raw_text.lower()\n",
    "raw_text[:100]"
   ]
  },
  {
   "cell_type": "code",
   "execution_count": 2,
   "id": "14da6a9f",
   "metadata": {},
   "outputs": [
    {
     "name": "stdout",
     "output_type": "stream",
     "text": [
      "Total characters: 3196232\n"
     ]
    }
   ],
   "source": [
    "n_chars = len(raw_text)\n",
    "print('Total characters: {}'.format(n_chars))"
   ]
  },
  {
   "cell_type": "code",
   "execution_count": 3,
   "id": "5d142c73",
   "metadata": {},
   "outputs": [
    {
     "name": "stdout",
     "output_type": "stream",
     "text": [
      "Total vocabulary (unique characters): 60\n",
      "['\\n', ' ', '!', '\"', \"'\", '(', ')', '*', ',', '-', '.', '/', '0', '1', '2', '3', '4', '5', '6', '7', '8', '9', ':', ';', '=', '?', 'a', 'b', 'c', 'd', 'e', 'f', 'g', 'h', 'i', 'j', 'k', 'l', 'm', 'n', 'o', 'p', 'q', 'r', 's', 't', 'u', 'v', 'w', 'x', 'y', 'z', '\\xa0', '¤', '©', 'ª', '»', '¿', 'ã', 'ï']\n"
     ]
    }
   ],
   "source": [
    "chars = sorted(list(set(raw_text)))\n",
    "n_vocab = len(chars)\n",
    "print('Total vocabulary (unique characters): {}'.format(n_vocab))\n",
    "print(chars)"
   ]
  },
  {
   "cell_type": "code",
   "execution_count": 4,
   "id": "94265a6f",
   "metadata": {},
   "outputs": [
    {
     "name": "stdout",
     "output_type": "stream",
     "text": [
      "{'\\n': 0, ' ': 1, '!': 2, '\"': 3, \"'\": 4, '(': 5, ')': 6, '*': 7, ',': 8, '-': 9, '.': 10, '/': 11, '0': 12, '1': 13, '2': 14, '3': 15, '4': 16, '5': 17, '6': 18, '7': 19, '8': 20, '9': 21, ':': 22, ';': 23, '=': 24, '?': 25, 'a': 26, 'b': 27, 'c': 28, 'd': 29, 'e': 30, 'f': 31, 'g': 32, 'h': 33, 'i': 34, 'j': 35, 'k': 36, 'l': 37, 'm': 38, 'n': 39, 'o': 40, 'p': 41, 'q': 42, 'r': 43, 's': 44, 't': 45, 'u': 46, 'v': 47, 'w': 48, 'x': 49, 'y': 50, 'z': 51, '\\xa0': 52, '¤': 53, '©': 54, 'ª': 55, '»': 56, '¿': 57, 'ã': 58, 'ï': 59}\n"
     ]
    }
   ],
   "source": [
    "index_to_char = dict((i, c) for i, c in enumerate(chars))\n",
    "char_to_index = dict((c, i) for i, c in enumerate(chars))\n",
    "print(char_to_index)"
   ]
  },
  {
   "cell_type": "code",
   "execution_count": 5,
   "id": "a2a9121e",
   "metadata": {},
   "outputs": [],
   "source": [
    "import numpy as np\n",
    "seq_length = 160\n",
    "n_seq = int(n_chars / seq_length)\n",
    "\n",
    "X = np.zeros((n_seq, seq_length, n_vocab))\n",
    "Y = np.zeros((n_seq, seq_length, n_vocab))\n",
    "\n",
    "for i in range(n_seq):\n",
    "    x_sequence = raw_text[i * seq_length : (i + 1) * seq_length]\n",
    "    x_sequence_ohe = np.zeros((seq_length, n_vocab))\n",
    "    for j in range(seq_length):\n",
    "        char = x_sequence[j]\n",
    "        index = char_to_index[char]\n",
    "        x_sequence_ohe[j][index] = 1.\n",
    "    X[i] = x_sequence_ohe\n",
    "    y_sequence = raw_text[i * seq_length + 1 : (i + 1) * seq_length + 1]\n",
    "    y_sequence_ohe = np.zeros((seq_length, n_vocab))\n",
    "    for j in range(seq_length):\n",
    "        char = y_sequence[j]\n",
    "        index = char_to_index[char]\n",
    "        y_sequence_ohe[j][index] = 1.\n",
    "    Y[i] = y_sequence_ohe"
   ]
  },
  {
   "cell_type": "code",
   "execution_count": 8,
   "id": "660ba296",
   "metadata": {},
   "outputs": [],
   "source": [
    "from keras.layers import LSTM\n",
    "from keras.models import Sequential\n",
    "from keras.layers.core import Dense, Activation, Dropout\n",
    "from keras.layers import TimeDistributed\n",
    "from keras import optimizers\n",
    "from tensorflow import keras\n",
    "\n",
    "batch_size = 100\n",
    "n_layer = 2\n",
    "hidden_units = 800\n",
    "n_epoch = 300\n",
    "dropout = 0.4"
   ]
  },
  {
   "cell_type": "code",
   "execution_count": 9,
   "id": "cd34ee67",
   "metadata": {},
   "outputs": [],
   "source": [
    "model = Sequential()\n",
    "\n",
    "model.add(LSTM(hidden_units, input_shape=(None, n_vocab), return_sequences=True))\n",
    "model.add(Dropout(dropout))\n",
    "\n",
    "for i in range(n_layer - 1):\n",
    "    model.add(LSTM(hidden_units, return_sequences=True))\n",
    "    model.add(Dropout(dropout))\n",
    "    \n",
    "model.add(TimeDistributed(Dense(n_vocab)))\n",
    "model.add(Activation('softmax'))"
   ]
  },
  {
   "cell_type": "code",
   "execution_count": 10,
   "id": "9cd08042",
   "metadata": {},
   "outputs": [],
   "source": [
    "optimizer = keras.optimizers.legacy.RMSprop(learning_rate=0.001, rho=0.9, epsilon=1e-08, decay=0.0)"
   ]
  },
  {
   "cell_type": "code",
   "execution_count": 11,
   "id": "c485367b",
   "metadata": {},
   "outputs": [],
   "source": [
    "model.compile(loss= \"categorical_crossentropy\", optimizer=optimizer)"
   ]
  },
  {
   "cell_type": "code",
   "execution_count": 12,
   "id": "7b0bc635",
   "metadata": {},
   "outputs": [
    {
     "name": "stdout",
     "output_type": "stream",
     "text": [
      "Model: \"sequential\"\n",
      "_________________________________________________________________\n",
      " Layer (type)                Output Shape              Param #   \n",
      "=================================================================\n",
      " lstm (LSTM)                 (None, None, 800)         2755200   \n",
      "                                                                 \n",
      " dropout (Dropout)           (None, None, 800)         0         \n",
      "                                                                 \n",
      " lstm_1 (LSTM)               (None, None, 800)         5123200   \n",
      "                                                                 \n",
      " dropout_1 (Dropout)         (None, None, 800)         0         \n",
      "                                                                 \n",
      " time_distributed (TimeDistr  (None, None, 60)         48060     \n",
      " ibuted)                                                         \n",
      "                                                                 \n",
      " activation (Activation)     (None, None, 60)          0         \n",
      "                                                                 \n",
      "=================================================================\n",
      "Total params: 7,926,460\n",
      "Trainable params: 7,926,460\n",
      "Non-trainable params: 0\n",
      "_________________________________________________________________\n"
     ]
    }
   ],
   "source": [
    "model.summary()"
   ]
  },
  {
   "cell_type": "code",
   "execution_count": 14,
   "id": "f08e73db",
   "metadata": {},
   "outputs": [],
   "source": [
    "from keras.callbacks import Callback, ModelCheckpoint, EarlyStopping\n",
    "filepath=\"weights/weights_layer_%d_hidden_%d_epoch_{epoch:03d}_loss_{loss:.4f}.hdf5\"\n",
    "checkpoint = ModelCheckpoint(filepath, monitor='loss', verbose=1, save_best_only=True, mode='min')"
   ]
  },
  {
   "cell_type": "code",
   "execution_count": 15,
   "id": "08b4d401",
   "metadata": {},
   "outputs": [],
   "source": [
    "early_stop = EarlyStopping(monitor='loss', min_delta=0, patience=50, verbose=1, mode='min')"
   ]
  },
  {
   "cell_type": "code",
   "execution_count": 16,
   "id": "ff67f65d",
   "metadata": {},
   "outputs": [],
   "source": [
    "def generate_text(model, gen_length, n_vocab, index_to_char):\n",
    "    \"\"\"\n",
    "    Generating text using the RNN model\n",
    "    @param model: current RNN model\n",
    "    @param gen_length: number of characters we want to generate\n",
    "    @param n_vocab: number of unique characters\n",
    "    @param index_to_char: index to character mapping\n",
    "    @return:\n",
    "    \"\"\"\n",
    "    # Start with a randomly picked character\n",
    "    index = np.random.randint(n_vocab)\n",
    "    y_char = [index_to_char[index]]\n",
    "    X = np.zeros((1, gen_length, n_vocab))\n",
    "    for i in range(gen_length):\n",
    "        X[0, i, index] = 1.\n",
    "        indices = np.argmax(model.predict(X[:, max(0, i - 99):i + 1, :])[0], 1)\n",
    "        index = indices[-l]\n",
    "        y_char.append(index_to_char[index])\n",
    "    return ('').join(y_char)"
   ]
  },
  {
   "cell_type": "code",
   "execution_count": 17,
   "id": "e2d2c461",
   "metadata": {},
   "outputs": [],
   "source": [
    "class ResultChecker(Callback):\n",
    "    def __init__(self, model, N, gen_length):\n",
    "        self.model = model\n",
    "        self.N = N\n",
    "        self.gen_length = gen_length\n",
    "        \n",
    "    def on_epoch_end(self, epoch, logs={}):\n",
    "        if epoch % self.N == 0:\n",
    "            result = generate_text(self.model, self.gen_length, n_vocab, index_to_char)\n",
    "            print('\\nMy War and Peace \\n' + result)"
   ]
  },
  {
   "cell_type": "code",
   "execution_count": null,
   "id": "19946fc1",
   "metadata": {},
   "outputs": [
    {
     "name": "stdout",
     "output_type": "stream",
     "text": [
      "Epoch 1/300\n"
     ]
    }
   ],
   "source": [
    "model.fit(X, Y, batch_size=batch_size, verbose=1, epochs=n_epoch, \n",
    "          callbacks=[ResultChecker(model, 10, 200), checkpoint, early_stop])"
   ]
  }
 ],
 "metadata": {
  "kernelspec": {
   "display_name": "Python 3 (ipykernel)",
   "language": "python",
   "name": "python3"
  },
  "language_info": {
   "codemirror_mode": {
    "name": "ipython",
    "version": 3
   },
   "file_extension": ".py",
   "mimetype": "text/x-python",
   "name": "python",
   "nbconvert_exporter": "python",
   "pygments_lexer": "ipython3",
   "version": "3.10.7"
  }
 },
 "nbformat": 4,
 "nbformat_minor": 5
}
